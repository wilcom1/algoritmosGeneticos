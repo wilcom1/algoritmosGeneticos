{
  "nbformat": 4,
  "nbformat_minor": 0,
  "metadata": {
    "colab": {
      "provenance": [],
      "authorship_tag": "ABX9TyMuV0E/hmOebPGPbxUDd9Ky",
      "include_colab_link": true
    },
    "kernelspec": {
      "name": "python3",
      "display_name": "Python 3"
    },
    "language_info": {
      "name": "python"
    }
  },
  "cells": [
    {
      "cell_type": "markdown",
      "metadata": {
        "id": "view-in-github",
        "colab_type": "text"
      },
      "source": [
        "<a href=\"https://colab.research.google.com/github/wilcom1/algoritmosGeneticos/blob/main/EjemploSemilla.ipynb\" target=\"_parent\"><img src=\"https://colab.research.google.com/assets/colab-badge.svg\" alt=\"Open In Colab\"/></a>"
      ]
    },
    {
      "cell_type": "code",
      "execution_count": null,
      "metadata": {
        "colab": {
          "base_uri": "https://localhost:8080/"
        },
        "id": "3rPTYxpxC_Qd",
        "outputId": "04f96c0c-7460-42d0-b8d5-498c5763b31b"
      },
      "outputs": [
        {
          "output_type": "stream",
          "name": "stdout",
          "text": [
            "[68.88437030500961, 51.590880588060486, -15.885683833830996, -48.21664994140733, 2.254944273721705, -19.01317250991714, 56.75971780695451, -39.33745478421451, -4.680609169528836, 16.676407891006235]\n",
            "[81.62257703906704, 0.9373711634780477, -43.63243112005924, 51.16084083144477, 23.67379933506632, -49.898731727511894, 81.94925119364802, 96.55709520753061, 62.04344719931791, 80.43319008791653]\n"
          ]
        }
      ],
      "source": [
        "#Librerias\n",
        "import random\n",
        "\n",
        "#Con el fin de obtener siempre los mismos números aleatorios, se fija una \n",
        "# semilla mediante el método seed\n",
        "random.seed(0)\n",
        "\n",
        "#Se generan los números aleatorios\n",
        "x = [random.uniform(-100,100) for i in range(10)]\n",
        "y = [random.uniform(-100,100) for i in range(10)]\n",
        "print (str(x))\n",
        "print (str(y))"
      ]
    }
  ]
}